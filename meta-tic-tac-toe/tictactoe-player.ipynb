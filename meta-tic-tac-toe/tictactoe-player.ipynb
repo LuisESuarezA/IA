{
 "cells": [
  {
   "cell_type": "code",
   "execution_count": 7,
   "metadata": {},
   "outputs": [
    {
     "name": "stdout",
     "output_type": "stream",
     "text": [
      "Initial board:\n",
      "a: None\n",
      "b: None\n",
      "c: None\n",
      "d: None\n",
      "e: None\n",
      "f: None\n",
      "g: None\n",
      "h: None\n",
      "i: None\n"
     ]
    }
   ],
   "source": [
    "class Board(dict):\n",
    "    def __init__(self):\n",
    "        super().__init__()\n",
    "        for key in 'abcdefghi':\n",
    "            self[key] = None\n",
    "\n",
    "    def __str__(self):\n",
    "        \"\"\"Return a string representation of the board.\"\"\"\n",
    "        return \"\\n\".join([f\"{k}: {v}\" for k, v in self.items()])\n",
    "\n",
    "    def reset(self):\n",
    "        \"\"\"Regresa el caso del tablero al estado inicial.\"\"\"\n",
    "        for key in self:\n",
    "            self[key] = None\n",
    "\n",
    "    def set_value(self, key, value):\n",
    "        \"\"\"Cambia el valor de una de las llaves.\"\"\"\n",
    "        if key not in self:\n",
    "            raise KeyError(f\"Llave Invalida: {key}\")\n",
    "        self[key] = value\n",
    "\n",
    "# Usage example:\n",
    "board = Board()\n",
    "print(\"Initial board:\")\n",
    "print(board)\n",
    "\n",
    "\n",
    "\n"
   ]
  },
  {
   "cell_type": "code",
   "execution_count": 8,
   "metadata": {},
   "outputs": [
    {
     "name": "stdout",
     "output_type": "stream",
     "text": [
      "\n",
      "Setting some values:\n",
      "a: X\n",
      "b: O\n",
      "c: None\n",
      "d: None\n",
      "e: X\n",
      "f: None\n",
      "g: None\n",
      "h: None\n",
      "i: None\n",
      "\n",
      "Resetting the board:\n",
      "a: None\n",
      "b: None\n",
      "c: None\n",
      "d: None\n",
      "e: None\n",
      "f: None\n",
      "g: None\n",
      "h: None\n",
      "i: None\n"
     ]
    }
   ],
   "source": [
    "print(\"\\nSetting some values:\")\n",
    "board.set_value('a', 'X')\n",
    "board.set_value('b', 'O')\n",
    "board.set_value('e', 'X')\n",
    "print(board)\n",
    "\n",
    "print(\"\\nResetting the board:\")\n",
    "board.reset()\n",
    "print(board)"
   ]
  }
 ],
 "metadata": {
  "kernelspec": {
   "display_name": "base",
   "language": "python",
   "name": "python3"
  },
  "language_info": {
   "codemirror_mode": {
    "name": "ipython",
    "version": 3
   },
   "file_extension": ".py",
   "mimetype": "text/x-python",
   "name": "python",
   "nbconvert_exporter": "python",
   "pygments_lexer": "ipython3",
   "version": "3.11.4"
  }
 },
 "nbformat": 4,
 "nbformat_minor": 2
}
